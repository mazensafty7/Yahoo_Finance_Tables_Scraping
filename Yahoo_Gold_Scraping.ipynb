{
 "cells": [
  {
   "cell_type": "markdown",
   "id": "2e7f348a",
   "metadata": {},
   "source": [
    "# Gold Prices Scraping"
   ]
  },
  {
   "cell_type": "markdown",
   "id": "80b854ce",
   "metadata": {},
   "source": [
    "## Import Libraries"
   ]
  },
  {
   "cell_type": "code",
   "execution_count": 1,
   "id": "4bc41ead",
   "metadata": {},
   "outputs": [],
   "source": [
    "import requests\n",
    "import pandas as pd\n",
    "from bs4 import BeautifulSoup"
   ]
  },
  {
   "cell_type": "markdown",
   "id": "f93b0e99",
   "metadata": {},
   "source": [
    "## Make The Request From Yahoo Finance and Get The Table HTML"
   ]
  },
  {
   "cell_type": "code",
   "execution_count": 2,
   "id": "4c0b9f60",
   "metadata": {},
   "outputs": [],
   "source": [
    "url = \"https://finance.yahoo.com/quote/GC%3DF/history/?period1=967608000&period2=1729276113\"\n",
    "headers = {\n",
    "    'User-Agent': 'Mozilla/5.0 (Windows NT 10.0; Win64; x64) AppleWebKit/537.36 (KHTML, like Gecko) Chrome/91.0.4472.124 Safari/537.36'\n",
    "}\n",
    "r = requests.get(url, headers=headers)\n",
    "\n",
    "c = r.text\n",
    "soup=BeautifulSoup(c, \"lxml\")\n",
    "\n",
    "table = soup.find(\"table\" , {\"class\":\"table yf-ewueuo noDl\"})"
   ]
  },
  {
   "cell_type": "markdown",
   "id": "8ed6938a",
   "metadata": {},
   "source": [
    "## Get The Headers of The Table"
   ]
  },
  {
   "cell_type": "code",
   "execution_count": 3,
   "id": "89646b25",
   "metadata": {},
   "outputs": [
    {
     "data": {
      "text/html": [
       "<div>\n",
       "<style scoped>\n",
       "    .dataframe tbody tr th:only-of-type {\n",
       "        vertical-align: middle;\n",
       "    }\n",
       "\n",
       "    .dataframe tbody tr th {\n",
       "        vertical-align: top;\n",
       "    }\n",
       "\n",
       "    .dataframe thead th {\n",
       "        text-align: right;\n",
       "    }\n",
       "</style>\n",
       "<table border=\"1\" class=\"dataframe\">\n",
       "  <thead>\n",
       "    <tr style=\"text-align: right;\">\n",
       "      <th></th>\n",
       "      <th>Date</th>\n",
       "      <th>Open</th>\n",
       "      <th>High</th>\n",
       "      <th>Low</th>\n",
       "      <th>Close</th>\n",
       "      <th>Adj Close</th>\n",
       "      <th>Volume</th>\n",
       "    </tr>\n",
       "  </thead>\n",
       "  <tbody>\n",
       "  </tbody>\n",
       "</table>\n",
       "</div>"
      ],
      "text/plain": [
       "Empty DataFrame\n",
       "Columns: [Date, Open, High, Low, Close, Adj Close, Volume]\n",
       "Index: []"
      ]
     },
     "execution_count": 3,
     "metadata": {},
     "output_type": "execute_result"
    }
   ],
   "source": [
    "headers = table.find_all(\"th\" , {\"class\":\"yf-ewueuo\"})\n",
    "\n",
    "titles = []\n",
    "\n",
    "for i in headers:\n",
    "    titles.append(i.text.split(\"  \")[0])\n",
    "    \n",
    "df = pd.DataFrame(columns = titles)\n",
    "df"
   ]
  },
  {
   "cell_type": "markdown",
   "id": "3bac254c",
   "metadata": {},
   "source": [
    "## Get The Content of The Table"
   ]
  },
  {
   "cell_type": "code",
   "execution_count": 4,
   "id": "27291e57",
   "metadata": {},
   "outputs": [
    {
     "data": {
      "text/html": [
       "<div>\n",
       "<style scoped>\n",
       "    .dataframe tbody tr th:only-of-type {\n",
       "        vertical-align: middle;\n",
       "    }\n",
       "\n",
       "    .dataframe tbody tr th {\n",
       "        vertical-align: top;\n",
       "    }\n",
       "\n",
       "    .dataframe thead th {\n",
       "        text-align: right;\n",
       "    }\n",
       "</style>\n",
       "<table border=\"1\" class=\"dataframe\">\n",
       "  <thead>\n",
       "    <tr style=\"text-align: right;\">\n",
       "      <th></th>\n",
       "      <th>Date</th>\n",
       "      <th>Open</th>\n",
       "      <th>High</th>\n",
       "      <th>Low</th>\n",
       "      <th>Close</th>\n",
       "      <th>Adj Close</th>\n",
       "      <th>Volume</th>\n",
       "    </tr>\n",
       "  </thead>\n",
       "  <tbody>\n",
       "    <tr>\n",
       "      <th>0</th>\n",
       "      <td>Oct 18, 2024</td>\n",
       "      <td>2,707.80</td>\n",
       "      <td>2,737.80</td>\n",
       "      <td>2,707.30</td>\n",
       "      <td>2,736.40</td>\n",
       "      <td>2,736.40</td>\n",
       "      <td>171,111</td>\n",
       "    </tr>\n",
       "    <tr>\n",
       "      <th>1</th>\n",
       "      <td>Oct 17, 2024</td>\n",
       "      <td>2,677.40</td>\n",
       "      <td>2,691.70</td>\n",
       "      <td>2,677.20</td>\n",
       "      <td>2,691.00</td>\n",
       "      <td>2,691.00</td>\n",
       "      <td>6</td>\n",
       "    </tr>\n",
       "    <tr>\n",
       "      <th>2</th>\n",
       "      <td>Oct 16, 2024</td>\n",
       "      <td>2,674.00</td>\n",
       "      <td>2,674.00</td>\n",
       "      <td>2,674.00</td>\n",
       "      <td>2,674.00</td>\n",
       "      <td>2,674.00</td>\n",
       "      <td>6</td>\n",
       "    </tr>\n",
       "    <tr>\n",
       "      <th>3</th>\n",
       "      <td>Oct 15, 2024</td>\n",
       "      <td>2,661.40</td>\n",
       "      <td>2,661.40</td>\n",
       "      <td>2,661.40</td>\n",
       "      <td>2,661.40</td>\n",
       "      <td>2,661.40</td>\n",
       "      <td>39</td>\n",
       "    </tr>\n",
       "    <tr>\n",
       "      <th>4</th>\n",
       "      <td>Oct 14, 2024</td>\n",
       "      <td>2,655.00</td>\n",
       "      <td>2,655.30</td>\n",
       "      <td>2,647.80</td>\n",
       "      <td>2,647.80</td>\n",
       "      <td>2,647.80</td>\n",
       "      <td>40</td>\n",
       "    </tr>\n",
       "  </tbody>\n",
       "</table>\n",
       "</div>"
      ],
      "text/plain": [
       "           Date      Open      High       Low     Close Adj Close   Volume\n",
       "0  Oct 18, 2024  2,707.80  2,737.80  2,707.30  2,736.40  2,736.40  171,111\n",
       "1  Oct 17, 2024  2,677.40  2,691.70  2,677.20  2,691.00  2,691.00        6\n",
       "2  Oct 16, 2024  2,674.00  2,674.00  2,674.00  2,674.00  2,674.00        6\n",
       "3  Oct 15, 2024  2,661.40  2,661.40  2,661.40  2,661.40  2,661.40       39\n",
       "4  Oct 14, 2024  2,655.00  2,655.30  2,647.80  2,647.80  2,647.80       40"
      ]
     },
     "execution_count": 4,
     "metadata": {},
     "output_type": "execute_result"
    }
   ],
   "source": [
    "rows_con = table.find_all(\"tr\" , {\"class\":\"yf-ewueuo\"})\n",
    "for i in rows_con[1:]:\n",
    "    data = i.find_all(\"td\" , {\"class\":\"yf-ewueuo\"})\n",
    "    row = [tr.text for tr in data]\n",
    "    new_row_df = pd.DataFrame([row], columns=df.columns)  # Ensure columns match\n",
    "    df = pd.concat([df, new_row_df], ignore_index=True)\n",
    "df.head()"
   ]
  },
  {
   "cell_type": "markdown",
   "id": "09300171",
   "metadata": {},
   "source": [
    "## Data Preprocessing"
   ]
  },
  {
   "cell_type": "code",
   "execution_count": 5,
   "id": "5fd29e4f",
   "metadata": {},
   "outputs": [
    {
     "data": {
      "text/html": [
       "<div>\n",
       "<style scoped>\n",
       "    .dataframe tbody tr th:only-of-type {\n",
       "        vertical-align: middle;\n",
       "    }\n",
       "\n",
       "    .dataframe tbody tr th {\n",
       "        vertical-align: top;\n",
       "    }\n",
       "\n",
       "    .dataframe thead th {\n",
       "        text-align: right;\n",
       "    }\n",
       "</style>\n",
       "<table border=\"1\" class=\"dataframe\">\n",
       "  <thead>\n",
       "    <tr style=\"text-align: right;\">\n",
       "      <th></th>\n",
       "      <th>Date</th>\n",
       "      <th>Open</th>\n",
       "      <th>High</th>\n",
       "      <th>Low</th>\n",
       "      <th>Close</th>\n",
       "      <th>Adj Close</th>\n",
       "      <th>Volume</th>\n",
       "    </tr>\n",
       "  </thead>\n",
       "  <tbody>\n",
       "    <tr>\n",
       "      <th>0</th>\n",
       "      <td>Oct 18, 2024</td>\n",
       "      <td>2,707.80</td>\n",
       "      <td>2,737.80</td>\n",
       "      <td>2,707.30</td>\n",
       "      <td>2,736.40</td>\n",
       "      <td>2,736.40</td>\n",
       "      <td>171,111</td>\n",
       "    </tr>\n",
       "    <tr>\n",
       "      <th>1</th>\n",
       "      <td>Oct 17, 2024</td>\n",
       "      <td>2,677.40</td>\n",
       "      <td>2,691.70</td>\n",
       "      <td>2,677.20</td>\n",
       "      <td>2,691.00</td>\n",
       "      <td>2,691.00</td>\n",
       "      <td>6</td>\n",
       "    </tr>\n",
       "    <tr>\n",
       "      <th>2</th>\n",
       "      <td>Oct 16, 2024</td>\n",
       "      <td>2,674.00</td>\n",
       "      <td>2,674.00</td>\n",
       "      <td>2,674.00</td>\n",
       "      <td>2,674.00</td>\n",
       "      <td>2,674.00</td>\n",
       "      <td>6</td>\n",
       "    </tr>\n",
       "    <tr>\n",
       "      <th>3</th>\n",
       "      <td>Oct 15, 2024</td>\n",
       "      <td>2,661.40</td>\n",
       "      <td>2,661.40</td>\n",
       "      <td>2,661.40</td>\n",
       "      <td>2,661.40</td>\n",
       "      <td>2,661.40</td>\n",
       "      <td>39</td>\n",
       "    </tr>\n",
       "    <tr>\n",
       "      <th>4</th>\n",
       "      <td>Oct 14, 2024</td>\n",
       "      <td>2,655.00</td>\n",
       "      <td>2,655.30</td>\n",
       "      <td>2,647.80</td>\n",
       "      <td>2,647.80</td>\n",
       "      <td>2,647.80</td>\n",
       "      <td>40</td>\n",
       "    </tr>\n",
       "    <tr>\n",
       "      <th>5</th>\n",
       "      <td>Oct 11, 2024</td>\n",
       "      <td>2,638.30</td>\n",
       "      <td>2,658.10</td>\n",
       "      <td>2,638.20</td>\n",
       "      <td>2,657.60</td>\n",
       "      <td>2,657.60</td>\n",
       "      <td>12</td>\n",
       "    </tr>\n",
       "    <tr>\n",
       "      <th>6</th>\n",
       "      <td>Oct 10, 2024</td>\n",
       "      <td>2,602.50</td>\n",
       "      <td>2,628.30</td>\n",
       "      <td>2,602.50</td>\n",
       "      <td>2,620.60</td>\n",
       "      <td>2,620.60</td>\n",
       "      <td>320</td>\n",
       "    </tr>\n",
       "    <tr>\n",
       "      <th>7</th>\n",
       "      <td>Oct 9, 2024</td>\n",
       "      <td>2,603.00</td>\n",
       "      <td>2,607.70</td>\n",
       "      <td>2,603.00</td>\n",
       "      <td>2,606.00</td>\n",
       "      <td>2,606.00</td>\n",
       "      <td>152</td>\n",
       "    </tr>\n",
       "    <tr>\n",
       "      <th>8</th>\n",
       "      <td>Oct 8, 2024</td>\n",
       "      <td>2,639.00</td>\n",
       "      <td>2,639.00</td>\n",
       "      <td>2,609.30</td>\n",
       "      <td>2,615.00</td>\n",
       "      <td>2,615.00</td>\n",
       "      <td>687</td>\n",
       "    </tr>\n",
       "    <tr>\n",
       "      <th>9</th>\n",
       "      <td>Oct 7, 2024</td>\n",
       "      <td>2,648.70</td>\n",
       "      <td>2,657.40</td>\n",
       "      <td>2,639.00</td>\n",
       "      <td>2,644.80</td>\n",
       "      <td>2,644.80</td>\n",
       "      <td>284</td>\n",
       "    </tr>\n",
       "  </tbody>\n",
       "</table>\n",
       "</div>"
      ],
      "text/plain": [
       "           Date      Open      High       Low     Close Adj Close   Volume\n",
       "0  Oct 18, 2024  2,707.80  2,737.80  2,707.30  2,736.40  2,736.40  171,111\n",
       "1  Oct 17, 2024  2,677.40  2,691.70  2,677.20  2,691.00  2,691.00        6\n",
       "2  Oct 16, 2024  2,674.00  2,674.00  2,674.00  2,674.00  2,674.00        6\n",
       "3  Oct 15, 2024  2,661.40  2,661.40  2,661.40  2,661.40  2,661.40       39\n",
       "4  Oct 14, 2024  2,655.00  2,655.30  2,647.80  2,647.80  2,647.80       40\n",
       "5  Oct 11, 2024  2,638.30  2,658.10  2,638.20  2,657.60  2,657.60       12\n",
       "6  Oct 10, 2024  2,602.50  2,628.30  2,602.50  2,620.60  2,620.60      320\n",
       "7   Oct 9, 2024  2,603.00  2,607.70  2,603.00  2,606.00  2,606.00      152\n",
       "8   Oct 8, 2024  2,639.00  2,639.00  2,609.30  2,615.00  2,615.00      687\n",
       "9   Oct 7, 2024  2,648.70  2,657.40  2,639.00  2,644.80  2,644.80      284"
      ]
     },
     "execution_count": 5,
     "metadata": {},
     "output_type": "execute_result"
    }
   ],
   "source": [
    "df.head(10)"
   ]
  },
  {
   "cell_type": "code",
   "execution_count": 6,
   "id": "f67c6c28",
   "metadata": {},
   "outputs": [
    {
     "data": {
      "text/plain": [
       "(6056, 7)"
      ]
     },
     "execution_count": 6,
     "metadata": {},
     "output_type": "execute_result"
    }
   ],
   "source": [
    "df.shape"
   ]
  },
  {
   "cell_type": "code",
   "execution_count": 7,
   "id": "4dee2a5d",
   "metadata": {},
   "outputs": [
    {
     "name": "stdout",
     "output_type": "stream",
     "text": [
      "<class 'pandas.core.frame.DataFrame'>\n",
      "RangeIndex: 6056 entries, 0 to 6055\n",
      "Data columns (total 7 columns):\n",
      " #   Column     Non-Null Count  Dtype \n",
      "---  ------     --------------  ----- \n",
      " 0   Date       6056 non-null   object\n",
      " 1   Open       6056 non-null   object\n",
      " 2   High       6056 non-null   object\n",
      " 3   Low        6056 non-null   object\n",
      " 4   Close      6056 non-null   object\n",
      " 5   Adj Close  6056 non-null   object\n",
      " 6   Volume     6056 non-null   object\n",
      "dtypes: object(7)\n",
      "memory usage: 331.3+ KB\n"
     ]
    }
   ],
   "source": [
    "df.info()"
   ]
  },
  {
   "cell_type": "markdown",
   "id": "031592f7",
   "metadata": {},
   "source": [
    "## Date Format"
   ]
  },
  {
   "cell_type": "code",
   "execution_count": 8,
   "id": "add693f6",
   "metadata": {},
   "outputs": [
    {
     "name": "stdout",
     "output_type": "stream",
     "text": [
      "<class 'pandas.core.frame.DataFrame'>\n",
      "RangeIndex: 6056 entries, 0 to 6055\n",
      "Data columns (total 7 columns):\n",
      " #   Column     Non-Null Count  Dtype         \n",
      "---  ------     --------------  -----         \n",
      " 0   Date       6056 non-null   datetime64[ns]\n",
      " 1   Open       6056 non-null   object        \n",
      " 2   High       6056 non-null   object        \n",
      " 3   Low        6056 non-null   object        \n",
      " 4   Close      6056 non-null   object        \n",
      " 5   Adj Close  6056 non-null   object        \n",
      " 6   Volume     6056 non-null   object        \n",
      "dtypes: datetime64[ns](1), object(6)\n",
      "memory usage: 331.3+ KB\n"
     ]
    }
   ],
   "source": [
    "df['Date'] = pd.to_datetime(df['Date'])\n",
    "df.info()"
   ]
  },
  {
   "cell_type": "markdown",
   "id": "136a06f0",
   "metadata": {},
   "source": [
    "## Numeric Data Format"
   ]
  },
  {
   "cell_type": "code",
   "execution_count": 9,
   "id": "1113ac02",
   "metadata": {},
   "outputs": [
    {
     "data": {
      "text/plain": [
       "Index(['Open', 'High', 'Low', 'Close', 'Adj Close', 'Volume'], dtype='object')"
      ]
     },
     "execution_count": 9,
     "metadata": {},
     "output_type": "execute_result"
    }
   ],
   "source": [
    "numbers = df.select_dtypes(include = [\"object\"]).columns\n",
    "numbers"
   ]
  },
  {
   "cell_type": "code",
   "execution_count": 10,
   "id": "60818946",
   "metadata": {},
   "outputs": [
    {
     "name": "stdout",
     "output_type": "stream",
     "text": [
      "<class 'pandas.core.frame.DataFrame'>\n",
      "RangeIndex: 6056 entries, 0 to 6055\n",
      "Data columns (total 7 columns):\n",
      " #   Column     Non-Null Count  Dtype         \n",
      "---  ------     --------------  -----         \n",
      " 0   Date       6056 non-null   datetime64[ns]\n",
      " 1   Open       6056 non-null   float64       \n",
      " 2   High       6056 non-null   float64       \n",
      " 3   Low        6056 non-null   float64       \n",
      " 4   Close      6056 non-null   float64       \n",
      " 5   Adj Close  6056 non-null   float64       \n",
      " 6   Volume     5643 non-null   float64       \n",
      "dtypes: datetime64[ns](1), float64(6)\n",
      "memory usage: 331.3 KB\n"
     ]
    }
   ],
   "source": [
    "for col in numbers:\n",
    "    df[col] = df[col].str.replace(\",\" , \"\")\n",
    "    df[col] = pd.to_numeric(df[col], errors='coerce')\n",
    "df.info()"
   ]
  },
  {
   "cell_type": "code",
   "execution_count": 11,
   "id": "645dea7a",
   "metadata": {},
   "outputs": [
    {
     "data": {
      "text/html": [
       "<div>\n",
       "<style scoped>\n",
       "    .dataframe tbody tr th:only-of-type {\n",
       "        vertical-align: middle;\n",
       "    }\n",
       "\n",
       "    .dataframe tbody tr th {\n",
       "        vertical-align: top;\n",
       "    }\n",
       "\n",
       "    .dataframe thead th {\n",
       "        text-align: right;\n",
       "    }\n",
       "</style>\n",
       "<table border=\"1\" class=\"dataframe\">\n",
       "  <thead>\n",
       "    <tr style=\"text-align: right;\">\n",
       "      <th></th>\n",
       "      <th>Date</th>\n",
       "      <th>Open</th>\n",
       "      <th>High</th>\n",
       "      <th>Low</th>\n",
       "      <th>Close</th>\n",
       "      <th>Adj Close</th>\n",
       "      <th>Volume</th>\n",
       "    </tr>\n",
       "  </thead>\n",
       "  <tbody>\n",
       "    <tr>\n",
       "      <th>0</th>\n",
       "      <td>2024-10-18</td>\n",
       "      <td>2707.8</td>\n",
       "      <td>2737.8</td>\n",
       "      <td>2707.3</td>\n",
       "      <td>2736.4</td>\n",
       "      <td>2736.4</td>\n",
       "      <td>171111.0</td>\n",
       "    </tr>\n",
       "    <tr>\n",
       "      <th>1</th>\n",
       "      <td>2024-10-17</td>\n",
       "      <td>2677.4</td>\n",
       "      <td>2691.7</td>\n",
       "      <td>2677.2</td>\n",
       "      <td>2691.0</td>\n",
       "      <td>2691.0</td>\n",
       "      <td>6.0</td>\n",
       "    </tr>\n",
       "    <tr>\n",
       "      <th>2</th>\n",
       "      <td>2024-10-16</td>\n",
       "      <td>2674.0</td>\n",
       "      <td>2674.0</td>\n",
       "      <td>2674.0</td>\n",
       "      <td>2674.0</td>\n",
       "      <td>2674.0</td>\n",
       "      <td>6.0</td>\n",
       "    </tr>\n",
       "    <tr>\n",
       "      <th>3</th>\n",
       "      <td>2024-10-15</td>\n",
       "      <td>2661.4</td>\n",
       "      <td>2661.4</td>\n",
       "      <td>2661.4</td>\n",
       "      <td>2661.4</td>\n",
       "      <td>2661.4</td>\n",
       "      <td>39.0</td>\n",
       "    </tr>\n",
       "    <tr>\n",
       "      <th>4</th>\n",
       "      <td>2024-10-14</td>\n",
       "      <td>2655.0</td>\n",
       "      <td>2655.3</td>\n",
       "      <td>2647.8</td>\n",
       "      <td>2647.8</td>\n",
       "      <td>2647.8</td>\n",
       "      <td>40.0</td>\n",
       "    </tr>\n",
       "  </tbody>\n",
       "</table>\n",
       "</div>"
      ],
      "text/plain": [
       "        Date    Open    High     Low   Close  Adj Close    Volume\n",
       "0 2024-10-18  2707.8  2737.8  2707.3  2736.4     2736.4  171111.0\n",
       "1 2024-10-17  2677.4  2691.7  2677.2  2691.0     2691.0       6.0\n",
       "2 2024-10-16  2674.0  2674.0  2674.0  2674.0     2674.0       6.0\n",
       "3 2024-10-15  2661.4  2661.4  2661.4  2661.4     2661.4      39.0\n",
       "4 2024-10-14  2655.0  2655.3  2647.8  2647.8     2647.8      40.0"
      ]
     },
     "execution_count": 11,
     "metadata": {},
     "output_type": "execute_result"
    }
   ],
   "source": [
    "df.head()"
   ]
  },
  {
   "cell_type": "markdown",
   "id": "599db95d",
   "metadata": {},
   "source": [
    "# Save The Data In CSV File"
   ]
  },
  {
   "cell_type": "code",
   "execution_count": 12,
   "id": "e2357bbd",
   "metadata": {},
   "outputs": [],
   "source": [
    "df.to_csv(\"gold.csv\" , index=False)"
   ]
  }
 ],
 "metadata": {
  "kernelspec": {
   "display_name": "Python 3 (ipykernel)",
   "language": "python",
   "name": "python3"
  },
  "language_info": {
   "codemirror_mode": {
    "name": "ipython",
    "version": 3
   },
   "file_extension": ".py",
   "mimetype": "text/x-python",
   "name": "python",
   "nbconvert_exporter": "python",
   "pygments_lexer": "ipython3",
   "version": "3.11.5"
  }
 },
 "nbformat": 4,
 "nbformat_minor": 5
}
